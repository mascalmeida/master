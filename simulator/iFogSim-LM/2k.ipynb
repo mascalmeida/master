{
 "cells": [
  {
   "cell_type": "code",
   "execution_count": 1,
   "id": "infinite-digit",
   "metadata": {
    "scrolled": true
   },
   "outputs": [
    {
     "name": "stderr",
     "output_type": "stream",
     "text": [
      "Loading required package: FrF2\n",
      "Loading required package: DoE.base\n",
      "Loading required package: grid\n",
      "Loading required package: conf.design\n",
      "Registered S3 method overwritten by 'DoE.base':\n",
      "  method           from       \n",
      "  factorize.factor conf.design\n",
      "\n",
      "Attaching package: 'DoE.base'\n",
      "\n",
      "The following objects are masked from 'package:stats':\n",
      "\n",
      "    aov, lm\n",
      "\n",
      "The following object is masked from 'package:graphics':\n",
      "\n",
      "    plot.design\n",
      "\n",
      "The following object is masked from 'package:base':\n",
      "\n",
      "    lengths\n",
      "\n"
     ]
    }
   ],
   "source": [
    "\n",
    "#Autor: Leonan Teixeira\n",
    "#Email: leonan.teixeira@gmail.com\n",
    "\n",
    "#instala a biblioteca\n",
    "#install.packages(\"FrF2\")\n",
    "\n",
    "#Carrega a biblioteca\n",
    "require(FrF2)\n",
    "\n",
    "#Applications Placement and Migration Based on Resource Demand and Network Traffic in a Fog"
   ]
  },
  {
   "cell_type": "code",
   "execution_count": 2,
   "id": "narrative-lithuania",
   "metadata": {
    "scrolled": false
   },
   "outputs": [
    {
     "name": "stderr",
     "output_type": "stream",
     "text": [
      "creating full factorial with 16 runs ...\n",
      "\n"
     ]
    },
    {
     "data": {
      "text/html": [
       "<table>\n",
       "<thead><tr><th scope=col>Algoritimo</th><th scope=col>Topologia</th><th scope=col>Carga</th><th scope=col>Recursos</th></tr></thead>\n",
       "<tbody>\n",
       "\t<tr><td>DP-I   </td><td>A      </td><td>High   </td><td>100%   </td></tr>\n",
       "\t<tr><td>PLACERN</td><td>A      </td><td>High   </td><td>100%   </td></tr>\n",
       "\t<tr><td>DP-I   </td><td>D      </td><td>High   </td><td>100%   </td></tr>\n",
       "\t<tr><td>PLACERN</td><td>D      </td><td>High   </td><td>100%   </td></tr>\n",
       "\t<tr><td>DP-I   </td><td>A      </td><td>Low    </td><td>100%   </td></tr>\n",
       "\t<tr><td>PLACERN</td><td>A      </td><td>Low    </td><td>100%   </td></tr>\n",
       "\t<tr><td>DP-I   </td><td>D      </td><td>Low    </td><td>100%   </td></tr>\n",
       "\t<tr><td>PLACERN</td><td>D      </td><td>Low    </td><td>100%   </td></tr>\n",
       "\t<tr><td>DP-I   </td><td>A      </td><td>High   </td><td>50%    </td></tr>\n",
       "\t<tr><td>PLACERN</td><td>A      </td><td>High   </td><td>50%    </td></tr>\n",
       "\t<tr><td>DP-I   </td><td>D      </td><td>High   </td><td>50%    </td></tr>\n",
       "\t<tr><td>PLACERN</td><td>D      </td><td>High   </td><td>50%    </td></tr>\n",
       "\t<tr><td>DP-I   </td><td>A      </td><td>Low    </td><td>50%    </td></tr>\n",
       "\t<tr><td>PLACERN</td><td>A      </td><td>Low    </td><td>50%    </td></tr>\n",
       "\t<tr><td>DP-I   </td><td>D      </td><td>Low    </td><td>50%    </td></tr>\n",
       "\t<tr><td>PLACERN</td><td>D      </td><td>Low    </td><td>50%    </td></tr>\n",
       "</tbody>\n",
       "</table>\n"
      ],
      "text/latex": [
       "\\begin{tabular}{r|llll}\n",
       " Algoritimo & Topologia & Carga & Recursos\\\\\n",
       "\\hline\n",
       "\t DP-I    & A       & High    & 100\\% \\\\\n",
       "\t PLACERN & A       & High    & 100\\% \\\\\n",
       "\t DP-I    & D       & High    & 100\\% \\\\\n",
       "\t PLACERN & D       & High    & 100\\% \\\\\n",
       "\t DP-I    & A       & Low     & 100\\% \\\\\n",
       "\t PLACERN & A       & Low     & 100\\% \\\\\n",
       "\t DP-I    & D       & Low     & 100\\% \\\\\n",
       "\t PLACERN & D       & Low     & 100\\% \\\\\n",
       "\t DP-I    & A       & High    & 50\\%  \\\\\n",
       "\t PLACERN & A       & High    & 50\\%  \\\\\n",
       "\t DP-I    & D       & High    & 50\\%  \\\\\n",
       "\t PLACERN & D       & High    & 50\\%  \\\\\n",
       "\t DP-I    & A       & Low     & 50\\%  \\\\\n",
       "\t PLACERN & A       & Low     & 50\\%  \\\\\n",
       "\t DP-I    & D       & Low     & 50\\%  \\\\\n",
       "\t PLACERN & D       & Low     & 50\\%  \\\\\n",
       "\\end{tabular}\n"
      ],
      "text/markdown": [
       "\n",
       "| Algoritimo | Topologia | Carga | Recursos |\n",
       "|---|---|---|---|\n",
       "| DP-I    | A       | High    | 100%    |\n",
       "| PLACERN | A       | High    | 100%    |\n",
       "| DP-I    | D       | High    | 100%    |\n",
       "| PLACERN | D       | High    | 100%    |\n",
       "| DP-I    | A       | Low     | 100%    |\n",
       "| PLACERN | A       | Low     | 100%    |\n",
       "| DP-I    | D       | Low     | 100%    |\n",
       "| PLACERN | D       | Low     | 100%    |\n",
       "| DP-I    | A       | High    | 50%     |\n",
       "| PLACERN | A       | High    | 50%     |\n",
       "| DP-I    | D       | High    | 50%     |\n",
       "| PLACERN | D       | High    | 50%     |\n",
       "| DP-I    | A       | Low     | 50%     |\n",
       "| PLACERN | A       | Low     | 50%     |\n",
       "| DP-I    | D       | Low     | 50%     |\n",
       "| PLACERN | D       | Low     | 50%     |\n",
       "\n"
      ],
      "text/plain": [
       "   Algoritimo Topologia Carga Recursos\n",
       "1  DP-I       A         High  100%    \n",
       "2  PLACERN    A         High  100%    \n",
       "3  DP-I       D         High  100%    \n",
       "4  PLACERN    D         High  100%    \n",
       "5  DP-I       A         Low   100%    \n",
       "6  PLACERN    A         Low   100%    \n",
       "7  DP-I       D         Low   100%    \n",
       "8  PLACERN    D         Low   100%    \n",
       "9  DP-I       A         High  50%     \n",
       "10 PLACERN    A         High  50%     \n",
       "11 DP-I       D         High  50%     \n",
       "12 PLACERN    D         High  50%     \n",
       "13 DP-I       A         Low   50%     \n",
       "14 PLACERN    A         Low   50%     \n",
       "15 DP-I       D         Low   50%     \n",
       "16 PLACERN    D         Low   50%     "
      ]
     },
     "metadata": {},
     "output_type": "display_data"
    }
   ],
   "source": [
    "experimento2k = FrF2(16,4, factor.names=rev(list(\n",
    "    Recursos=c(\"100%\",\"50%\"),\n",
    "    Carga=c(\"High\",\"Low\"),\n",
    "    Topologia=c(\"A\",\"D\"),\n",
    "    Algoritimo=c(\"DP-I\",\"PLACERN\")\n",
    ")), random=F)\n",
    "\n",
    "experimento2k"
   ]
  },
  {
   "cell_type": "code",
   "execution_count": 3,
   "id": "sublime-banner",
   "metadata": {
    "scrolled": true
   },
   "outputs": [
    {
     "data": {
      "text/html": [
       "<table>\n",
       "<thead><tr><th scope=col>Algoritimo</th><th scope=col>Topologia</th><th scope=col>Carga</th><th scope=col>Recursos</th><th scope=col>Network</th></tr></thead>\n",
       "<tbody>\n",
       "\t<tr><td>DP-I     </td><td>A        </td><td>High     </td><td>100%     </td><td>361.00743</td></tr>\n",
       "\t<tr><td>PLACERN  </td><td>A        </td><td>High     </td><td>100%     </td><td>306.91914</td></tr>\n",
       "\t<tr><td>DP-I     </td><td>D        </td><td>High     </td><td>100%     </td><td>216.10474</td></tr>\n",
       "\t<tr><td>PLACERN  </td><td>D        </td><td>High     </td><td>100%     </td><td>122.01475</td></tr>\n",
       "\t<tr><td>DP-I     </td><td>A        </td><td>Low      </td><td>100%     </td><td>131.20025</td></tr>\n",
       "\t<tr><td>PLACERN  </td><td>A        </td><td>Low      </td><td>100%     </td><td> 49.74365</td></tr>\n",
       "\t<tr><td>DP-I     </td><td>D        </td><td>Low      </td><td>100%     </td><td> 67.58545</td></tr>\n",
       "\t<tr><td>PLACERN  </td><td>D        </td><td>Low      </td><td>100%     </td><td> 47.14771</td></tr>\n",
       "\t<tr><td>DP-I     </td><td>A        </td><td>High     </td><td>50%      </td><td>434.28579</td></tr>\n",
       "\t<tr><td>PLACERN  </td><td>A        </td><td>High     </td><td>50%      </td><td>400.54909</td></tr>\n",
       "\t<tr><td>DP-I     </td><td>D        </td><td>High     </td><td>50%      </td><td>375.56532</td></tr>\n",
       "\t<tr><td>PLACERN  </td><td>D        </td><td>High     </td><td>50%      </td><td>309.65149</td></tr>\n",
       "\t<tr><td>DP-I     </td><td>A        </td><td>Low      </td><td>50%      </td><td>272.42497</td></tr>\n",
       "\t<tr><td>PLACERN  </td><td>A        </td><td>Low      </td><td>50%      </td><td>182.38877</td></tr>\n",
       "\t<tr><td>DP-I     </td><td>D        </td><td>Low      </td><td>50%      </td><td>159.87466</td></tr>\n",
       "\t<tr><td>PLACERN  </td><td>D        </td><td>Low      </td><td>50%      </td><td> 87.36642</td></tr>\n",
       "</tbody>\n",
       "</table>\n"
      ],
      "text/latex": [
       "\\begin{tabular}{r|lllll}\n",
       " Algoritimo & Topologia & Carga & Recursos & Network\\\\\n",
       "\\hline\n",
       "\t DP-I      & A         & High      & 100\\%    & 361.00743\\\\\n",
       "\t PLACERN   & A         & High      & 100\\%    & 306.91914\\\\\n",
       "\t DP-I      & D         & High      & 100\\%    & 216.10474\\\\\n",
       "\t PLACERN   & D         & High      & 100\\%    & 122.01475\\\\\n",
       "\t DP-I      & A         & Low       & 100\\%    & 131.20025\\\\\n",
       "\t PLACERN   & A         & Low       & 100\\%    &  49.74365\\\\\n",
       "\t DP-I      & D         & Low       & 100\\%    &  67.58545\\\\\n",
       "\t PLACERN   & D         & Low       & 100\\%    &  47.14771\\\\\n",
       "\t DP-I      & A         & High      & 50\\%     & 434.28579\\\\\n",
       "\t PLACERN   & A         & High      & 50\\%     & 400.54909\\\\\n",
       "\t DP-I      & D         & High      & 50\\%     & 375.56532\\\\\n",
       "\t PLACERN   & D         & High      & 50\\%     & 309.65149\\\\\n",
       "\t DP-I      & A         & Low       & 50\\%     & 272.42497\\\\\n",
       "\t PLACERN   & A         & Low       & 50\\%     & 182.38877\\\\\n",
       "\t DP-I      & D         & Low       & 50\\%     & 159.87466\\\\\n",
       "\t PLACERN   & D         & Low       & 50\\%     &  87.36642\\\\\n",
       "\\end{tabular}\n"
      ],
      "text/markdown": [
       "\n",
       "| Algoritimo | Topologia | Carga | Recursos | Network |\n",
       "|---|---|---|---|---|\n",
       "| DP-I      | A         | High      | 100%      | 361.00743 |\n",
       "| PLACERN   | A         | High      | 100%      | 306.91914 |\n",
       "| DP-I      | D         | High      | 100%      | 216.10474 |\n",
       "| PLACERN   | D         | High      | 100%      | 122.01475 |\n",
       "| DP-I      | A         | Low       | 100%      | 131.20025 |\n",
       "| PLACERN   | A         | Low       | 100%      |  49.74365 |\n",
       "| DP-I      | D         | Low       | 100%      |  67.58545 |\n",
       "| PLACERN   | D         | Low       | 100%      |  47.14771 |\n",
       "| DP-I      | A         | High      | 50%       | 434.28579 |\n",
       "| PLACERN   | A         | High      | 50%       | 400.54909 |\n",
       "| DP-I      | D         | High      | 50%       | 375.56532 |\n",
       "| PLACERN   | D         | High      | 50%       | 309.65149 |\n",
       "| DP-I      | A         | Low       | 50%       | 272.42497 |\n",
       "| PLACERN   | A         | Low       | 50%       | 182.38877 |\n",
       "| DP-I      | D         | Low       | 50%       | 159.87466 |\n",
       "| PLACERN   | D         | Low       | 50%       |  87.36642 |\n",
       "\n"
      ],
      "text/plain": [
       "   Algoritimo Topologia Carga Recursos Network  \n",
       "1  DP-I       A         High  100%     361.00743\n",
       "2  PLACERN    A         High  100%     306.91914\n",
       "3  DP-I       D         High  100%     216.10474\n",
       "4  PLACERN    D         High  100%     122.01475\n",
       "5  DP-I       A         Low   100%     131.20025\n",
       "6  PLACERN    A         Low   100%      49.74365\n",
       "7  DP-I       D         Low   100%      67.58545\n",
       "8  PLACERN    D         Low   100%      47.14771\n",
       "9  DP-I       A         High  50%      434.28579\n",
       "10 PLACERN    A         High  50%      400.54909\n",
       "11 DP-I       D         High  50%      375.56532\n",
       "12 PLACERN    D         High  50%      309.65149\n",
       "13 DP-I       A         Low   50%      272.42497\n",
       "14 PLACERN    A         Low   50%      182.38877\n",
       "15 DP-I       D         Low   50%      159.87466\n",
       "16 PLACERN    D         Low   50%       87.36642"
      ]
     },
     "metadata": {},
     "output_type": "display_data"
    }
   ],
   "source": [
    "Network<-c(361.00742795, 306.91913799, 216.10474091, 122.01475423,\n",
    "       131.20024709,  49.74364827,  67.58545166,  47.1477146 ,\n",
    "       434.28579452, 400.5490924 , 375.56532188, 309.65148688,\n",
    "       272.42497174, 182.38876826, 159.874662  ,  87.36642032)\n",
    "\n",
    "experimento2k = add.response(design=experimento2k, response=Network)\n",
    "experimento2k"
   ]
  },
  {
   "cell_type": "code",
   "execution_count": 4,
   "id": "directed-willow",
   "metadata": {
    "scrolled": true
   },
   "outputs": [
    {
     "data": {
      "text/html": [
       "<table>\n",
       "<thead><tr><th scope=col>Algoritimo</th><th scope=col>Topologia</th><th scope=col>Carga</th><th scope=col>Recursos</th><th scope=col>Network</th><th scope=col>DelayVRGame</th><th scope=col>DelayDCNS</th></tr></thead>\n",
       "<tbody>\n",
       "\t<tr><td>DP-I     </td><td>A        </td><td>High     </td><td>100%     </td><td>361.00743</td><td>246.29810</td><td>471.32446</td></tr>\n",
       "\t<tr><td>PLACERN  </td><td>A        </td><td>High     </td><td>100%     </td><td>306.91914</td><td>163.43001</td><td>476.82239</td></tr>\n",
       "\t<tr><td>DP-I     </td><td>D        </td><td>High     </td><td>100%     </td><td>216.10474</td><td>211.70530</td><td>380.56936</td></tr>\n",
       "\t<tr><td>PLACERN  </td><td>D        </td><td>High     </td><td>100%     </td><td>122.01475</td><td>184.60822</td><td>247.77000</td></tr>\n",
       "\t<tr><td>DP-I     </td><td>A        </td><td>Low      </td><td>100%     </td><td>131.20025</td><td> 25.93389</td><td>183.88882</td></tr>\n",
       "\t<tr><td>PLACERN  </td><td>A        </td><td>Low      </td><td>100%     </td><td> 49.74365</td><td> 28.51776</td><td>138.41486</td></tr>\n",
       "\t<tr><td>DP-I     </td><td>D        </td><td>Low      </td><td>100%     </td><td> 67.58545</td><td> 39.26404</td><td> 73.40038</td></tr>\n",
       "\t<tr><td>PLACERN  </td><td>D        </td><td>Low      </td><td>100%     </td><td> 47.14771</td><td> 32.47529</td><td> 69.68856</td></tr>\n",
       "\t<tr><td>DP-I     </td><td>A        </td><td>High     </td><td>50%      </td><td>434.28579</td><td>377.70772</td><td>472.26970</td></tr>\n",
       "\t<tr><td>PLACERN  </td><td>A        </td><td>High     </td><td>50%      </td><td>400.54909</td><td>293.86249</td><td>465.35143</td></tr>\n",
       "\t<tr><td>DP-I     </td><td>D        </td><td>High     </td><td>50%      </td><td>375.56532</td><td>307.17392</td><td>486.50982</td></tr>\n",
       "\t<tr><td>PLACERN  </td><td>D        </td><td>High     </td><td>50%      </td><td>309.65149</td><td>229.67471</td><td>488.92029</td></tr>\n",
       "\t<tr><td>DP-I     </td><td>A        </td><td>Low      </td><td>50%      </td><td>272.42497</td><td>100.35288</td><td>316.05500</td></tr>\n",
       "\t<tr><td>PLACERN  </td><td>A        </td><td>Low      </td><td>50%      </td><td>182.38877</td><td> 42.54628</td><td>337.00608</td></tr>\n",
       "\t<tr><td>DP-I     </td><td>D        </td><td>Low      </td><td>50%      </td><td>159.87466</td><td> 61.18216</td><td>211.52281</td></tr>\n",
       "\t<tr><td>PLACERN  </td><td>D        </td><td>Low      </td><td>50%      </td><td> 87.36642</td><td> 54.23489</td><td>191.45765</td></tr>\n",
       "</tbody>\n",
       "</table>\n"
      ],
      "text/latex": [
       "\\begin{tabular}{r|lllllll}\n",
       " Algoritimo & Topologia & Carga & Recursos & Network & DelayVRGame & DelayDCNS\\\\\n",
       "\\hline\n",
       "\t DP-I      & A         & High      & 100\\%    & 361.00743 & 246.29810 & 471.32446\\\\\n",
       "\t PLACERN   & A         & High      & 100\\%    & 306.91914 & 163.43001 & 476.82239\\\\\n",
       "\t DP-I      & D         & High      & 100\\%    & 216.10474 & 211.70530 & 380.56936\\\\\n",
       "\t PLACERN   & D         & High      & 100\\%    & 122.01475 & 184.60822 & 247.77000\\\\\n",
       "\t DP-I      & A         & Low       & 100\\%    & 131.20025 &  25.93389 & 183.88882\\\\\n",
       "\t PLACERN   & A         & Low       & 100\\%    &  49.74365 &  28.51776 & 138.41486\\\\\n",
       "\t DP-I      & D         & Low       & 100\\%    &  67.58545 &  39.26404 &  73.40038\\\\\n",
       "\t PLACERN   & D         & Low       & 100\\%    &  47.14771 &  32.47529 &  69.68856\\\\\n",
       "\t DP-I      & A         & High      & 50\\%     & 434.28579 & 377.70772 & 472.26970\\\\\n",
       "\t PLACERN   & A         & High      & 50\\%     & 400.54909 & 293.86249 & 465.35143\\\\\n",
       "\t DP-I      & D         & High      & 50\\%     & 375.56532 & 307.17392 & 486.50982\\\\\n",
       "\t PLACERN   & D         & High      & 50\\%     & 309.65149 & 229.67471 & 488.92029\\\\\n",
       "\t DP-I      & A         & Low       & 50\\%     & 272.42497 & 100.35288 & 316.05500\\\\\n",
       "\t PLACERN   & A         & Low       & 50\\%     & 182.38877 &  42.54628 & 337.00608\\\\\n",
       "\t DP-I      & D         & Low       & 50\\%     & 159.87466 &  61.18216 & 211.52281\\\\\n",
       "\t PLACERN   & D         & Low       & 50\\%     &  87.36642 &  54.23489 & 191.45765\\\\\n",
       "\\end{tabular}\n"
      ],
      "text/markdown": [
       "\n",
       "| Algoritimo | Topologia | Carga | Recursos | Network | DelayVRGame | DelayDCNS |\n",
       "|---|---|---|---|---|---|---|\n",
       "| DP-I      | A         | High      | 100%      | 361.00743 | 246.29810 | 471.32446 |\n",
       "| PLACERN   | A         | High      | 100%      | 306.91914 | 163.43001 | 476.82239 |\n",
       "| DP-I      | D         | High      | 100%      | 216.10474 | 211.70530 | 380.56936 |\n",
       "| PLACERN   | D         | High      | 100%      | 122.01475 | 184.60822 | 247.77000 |\n",
       "| DP-I      | A         | Low       | 100%      | 131.20025 |  25.93389 | 183.88882 |\n",
       "| PLACERN   | A         | Low       | 100%      |  49.74365 |  28.51776 | 138.41486 |\n",
       "| DP-I      | D         | Low       | 100%      |  67.58545 |  39.26404 |  73.40038 |\n",
       "| PLACERN   | D         | Low       | 100%      |  47.14771 |  32.47529 |  69.68856 |\n",
       "| DP-I      | A         | High      | 50%       | 434.28579 | 377.70772 | 472.26970 |\n",
       "| PLACERN   | A         | High      | 50%       | 400.54909 | 293.86249 | 465.35143 |\n",
       "| DP-I      | D         | High      | 50%       | 375.56532 | 307.17392 | 486.50982 |\n",
       "| PLACERN   | D         | High      | 50%       | 309.65149 | 229.67471 | 488.92029 |\n",
       "| DP-I      | A         | Low       | 50%       | 272.42497 | 100.35288 | 316.05500 |\n",
       "| PLACERN   | A         | Low       | 50%       | 182.38877 |  42.54628 | 337.00608 |\n",
       "| DP-I      | D         | Low       | 50%       | 159.87466 |  61.18216 | 211.52281 |\n",
       "| PLACERN   | D         | Low       | 50%       |  87.36642 |  54.23489 | 191.45765 |\n",
       "\n"
      ],
      "text/plain": [
       "   Algoritimo Topologia Carga Recursos Network   DelayVRGame DelayDCNS\n",
       "1  DP-I       A         High  100%     361.00743 246.29810   471.32446\n",
       "2  PLACERN    A         High  100%     306.91914 163.43001   476.82239\n",
       "3  DP-I       D         High  100%     216.10474 211.70530   380.56936\n",
       "4  PLACERN    D         High  100%     122.01475 184.60822   247.77000\n",
       "5  DP-I       A         Low   100%     131.20025  25.93389   183.88882\n",
       "6  PLACERN    A         Low   100%      49.74365  28.51776   138.41486\n",
       "7  DP-I       D         Low   100%      67.58545  39.26404    73.40038\n",
       "8  PLACERN    D         Low   100%      47.14771  32.47529    69.68856\n",
       "9  DP-I       A         High  50%      434.28579 377.70772   472.26970\n",
       "10 PLACERN    A         High  50%      400.54909 293.86249   465.35143\n",
       "11 DP-I       D         High  50%      375.56532 307.17392   486.50982\n",
       "12 PLACERN    D         High  50%      309.65149 229.67471   488.92029\n",
       "13 DP-I       A         Low   50%      272.42497 100.35288   316.05500\n",
       "14 PLACERN    A         Low   50%      182.38877  42.54628   337.00608\n",
       "15 DP-I       D         Low   50%      159.87466  61.18216   211.52281\n",
       "16 PLACERN    D         Low   50%       87.36642  54.23489   191.45765"
      ]
     },
     "metadata": {},
     "output_type": "display_data"
    }
   ],
   "source": [
    "DelayVRGame<-c(246.29810265, 163.43000788, 211.70529804, 184.60822422,\n",
    "        25.93389099,  28.5177624 ,  39.26403926,  32.47529245,\n",
    "       377.70772419, 293.86248835, 307.17391744, 229.67471219,\n",
    "       100.35288405,  42.54628136,  61.18216296,  54.2348898)\n",
    "\n",
    "DelayDCNS<-c(471.32445563, 476.82239299, 380.56935939, 247.77000056,\n",
    "       183.88882398, 138.41485515,  73.40037502,  69.68855922,\n",
    "       472.26969622, 465.3514268 , 486.50981583, 488.92028631,\n",
    "       316.05499526, 337.00607716, 211.52281184, 191.45765307)\n",
    "\n",
    "experimento2k = add.response(design=experimento2k, response=DelayVRGame)\n",
    "experimento2k = add.response(design=experimento2k, response=DelayDCNS)\n",
    "experimento2k"
   ]
  },
  {
   "cell_type": "code",
   "execution_count": 5,
   "id": "spectacular-monday",
   "metadata": {
    "scrolled": true
   },
   "outputs": [],
   "source": [
    "recursos = experimento2k$Recursos\n",
    "carga = experimento2k$Carga\n",
    "topologia = experimento2k$Topologia\n",
    "algoritimo = experimento2k$Algoritimo\n",
    "fit<-aov(Network~recursos*carga*topologia*algoritimo,data=experimento2k)\n",
    "efeitos<-coef(fit)[2:16]"
   ]
  },
  {
   "cell_type": "code",
   "execution_count": 16,
   "id": "lyric-engineer",
   "metadata": {
    "scrolled": false
   },
   "outputs": [
    {
     "data": {
      "text/html": [
       "<strong>png:</strong> 2"
      ],
      "text/latex": [
       "\\textbf{png:} 2"
      ],
      "text/markdown": [
       "**png:** 2"
      ],
      "text/plain": [
       "png \n",
       "  2 "
      ]
     },
     "metadata": {},
     "output_type": "display_data"
    },
    {
     "data": {
      "text/html": [
       "<strong>png:</strong> 2"
      ],
      "text/latex": [
       "\\textbf{png:} 2"
      ],
      "text/markdown": [
       "**png:** 2"
      ],
      "text/plain": [
       "png \n",
       "  2 "
      ]
     },
     "metadata": {},
     "output_type": "display_data"
    },
    {
     "data": {
      "text/html": [
       "<strong>png:</strong> 2"
      ],
      "text/latex": [
       "\\textbf{png:} 2"
      ],
      "text/markdown": [
       "**png:** 2"
      ],
      "text/plain": [
       "png \n",
       "  2 "
      ]
     },
     "metadata": {},
     "output_type": "display_data"
    }
   ],
   "source": [
    "s = 7\n",
    "pdf(file = \"charts\\\\net_normal.pdf\", width = s,height = s)\n",
    "DanielPlot(experimento2k, datax=T)\n",
    "qqline(efeitos, col='Red')\n",
    "dev.off()\n",
    "#DanielPlot(experimento2k, datax=T, half=T)\n",
    "#qqline(efeitos, col='Red')\n",
    "pdf(file = \"charts\\\\net_effect.pdf\", width = s,height = s)\n",
    "MEPlot(experimento2k)\n",
    "dev.off()\n",
    "pdf(file = \"charts\\\\net_int.pdf\", width = s,height = s)\n",
    "IAPlot(experimento2k)\n",
    "dev.off()"
   ]
  },
  {
   "cell_type": "code",
   "execution_count": 9,
   "id": "rising-double",
   "metadata": {
    "scrolled": false
   },
   "outputs": [
    {
     "data": {
      "text/html": [
       "<strong>png:</strong> 2"
      ],
      "text/latex": [
       "\\textbf{png:} 2"
      ],
      "text/markdown": [
       "**png:** 2"
      ],
      "text/plain": [
       "png \n",
       "  2 "
      ]
     },
     "metadata": {},
     "output_type": "display_data"
    },
    {
     "data": {
      "text/html": [
       "<strong>png:</strong> 2"
      ],
      "text/latex": [
       "\\textbf{png:} 2"
      ],
      "text/markdown": [
       "**png:** 2"
      ],
      "text/plain": [
       "png \n",
       "  2 "
      ]
     },
     "metadata": {},
     "output_type": "display_data"
    },
    {
     "data": {
      "text/html": [
       "<strong>png:</strong> 2"
      ],
      "text/latex": [
       "\\textbf{png:} 2"
      ],
      "text/markdown": [
       "**png:** 2"
      ],
      "text/plain": [
       "png \n",
       "  2 "
      ]
     },
     "metadata": {},
     "output_type": "display_data"
    }
   ],
   "source": [
    "#VRGame\n",
    "\n",
    "fit<-aov(DelayVRGame~recursos*carga*topologia*algoritimo,data=experimento2k)\n",
    "efeitos<-coef(fit)[2:16]\n",
    "\n",
    "pdf(file = \"charts\\\\normal.pdf\", width = 4,height = 4)\n",
    "DanielPlot(experimento2k, datax=T, response=\"DelayVRGame\")\n",
    "qqline(efeitos, col='Red')\n",
    "dev.off()\n",
    "#DanielPlot(experimento2k, datax=T, half=T, response=\"DelayVRGame\")\n",
    "#qqline(efeitos, col='Red')\n",
    "pdf(file = \"charts\\\\delay_vr_effects.pdf\", width = 4,height = 4)\n",
    "MEPlot(experimento2k,response=\"DelayVRGame\")\n",
    "dev.off()\n",
    "pdf(file = \"charts\\\\delay_vr_inte.pdf\", width = 4,height = 4)\n",
    "IAPlot(experimento2k,response=\"DelayVRGame\")\n",
    "dev.off()"
   ]
  },
  {
   "cell_type": "code",
   "execution_count": 51,
   "id": "intimate-roommate",
   "metadata": {
    "scrolled": false
   },
   "outputs": [
    {
     "data": {
      "image/png": "[encoded data removed]",
      "text/plain": [
       "Plot with title \"Normal Plot for DelayDCNS, alpha=0.05\""
      ]
     },
     "metadata": {},
     "output_type": "display_data"
    },
    {
     "data": {
      "image/png": "[encoded data removed]",
      "text/plain": [
       "Plot with title \"Main effects plot for DelayDCNS\""
      ]
     },
     "metadata": {},
     "output_type": "display_data"
    },
    {
     "data": {
      "image/png": "[encoded data removed]",
      "text/plain": [
       "Plot with title \"Interaction plot matrix for DelayDCNS\""
      ]
     },
     "metadata": {},
     "output_type": "display_data"
    }
   ],
   "source": [
    "fit<-aov(DelayDCNS~recursos*carga*topologia*algoritimo,data=experimento2k)\n",
    "efeitos<-coef(fit)[2:16]\n",
    "DanielPlot(experimento2k, datax=T,response=\"DelayDCNS\")\n",
    "qqline(efeitos, col='Red')\n",
    "#DanielPlot(experimento2k, datax=T, half=T,response=\"DelayDCNS\")\n",
    "#qqline(efeitos, col='Red')\n",
    "MEPlot(experimento2k,response=\"DelayDCNS\")\n",
    "IAPlot(experimento2k,response=\"DelayDCNS\")"
   ]
  },
  {
   "cell_type": "code",
   "execution_count": null,
   "id": "derived-spell",
   "metadata": {
    "scrolled": false
   },
   "outputs": [],
   "source": []
  }
 ],
 "metadata": {
  "kernelspec": {
   "display_name": "R",
   "language": "R",
   "name": "ir"
  },
  "language_info": {
   "codemirror_mode": "r",
   "file_extension": ".r",
   "mimetype": "text/x-r-source",
   "name": "R",
   "pygments_lexer": "r",
   "version": "3.6.1"
  }
 },
 "nbformat": 4,
 "nbformat_minor": 5
}
