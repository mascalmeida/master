{
 "cells": [
  {
   "cell_type": "code",
   "execution_count": null,
   "metadata": {},
   "outputs": [],
   "source": [
    "# Importing EdgeSimPy components\n",
    "from edge_sim_py import *"
   ]
  },
  {
   "cell_type": "code",
   "execution_count": null,
   "metadata": {},
   "outputs": [],
   "source": [
    "# Creating a Simulator object\n",
    "simulator = Simulator()\n",
    "\n",
    "# Loading the dataset file from the external JSON file\n",
    "simulator.initialize(input_file=\"https://raw.githubusercontent.com/EdgeSimPy/edgesimpy-tutorials/master/datasets/sample_dataset1.json\")\n",
    "\n",
    "# Displaying some of the objects loaded from the dataset\n",
    "for user in User.all():\n",
    "    print(f\"{user}. Coordinates: {user.coordinates}\")"
   ]
  },
  {
   "cell_type": "code",
   "execution_count": null,
   "metadata": {},
   "outputs": [],
   "source": [
    "# Creating a Python dictionary representing a sample dataset with a couple of users\n",
    "my_simplified_dataset = {\n",
    "    \"User\": [\n",
    "        {\n",
    "            \"attributes\": {\n",
    "                \"id\": 1,\n",
    "                \"coordinates\": [\n",
    "                    1,\n",
    "                    1\n",
    "                ]\n",
    "            },\n",
    "            \"relationships\": {}\n",
    "        },\n",
    "        {\n",
    "            \"attributes\": {\n",
    "                \"id\": 2,\n",
    "                \"coordinates\": [\n",
    "                    3,\n",
    "                    3\n",
    "                ]\n",
    "            },\n",
    "            \"relationships\": {}\n",
    "        },\n",
    "        {\n",
    "            \"attributes\": {\n",
    "                \"id\": 3,\n",
    "                \"coordinates\": [\n",
    "                    5,\n",
    "                    1\n",
    "                ]\n",
    "            },\n",
    "            \"relationships\": {}\n",
    "        },\n",
    "        {\n",
    "            \"attributes\": {\n",
    "                \"id\": 4,\n",
    "                \"coordinates\": [\n",
    "                    0,\n",
    "                    0\n",
    "                ]\n",
    "            },\n",
    "            \"relationships\": {}\n",
    "        }\n",
    "    ]\n",
    "}\n",
    "\n",
    "# Creating a Simulator object\n",
    "simulator_2 = Simulator()\n",
    "\n",
    "# Loading the dataset from the dictionary \"my_simplified_dataset\"\n",
    "simulator_2.initialize(input_file=my_simplified_dataset)\n",
    "\n",
    "# Displaying the objects loaded from the dataset\n",
    "for user in User.all():\n",
    "    print(f\"{user}. Coordinates: {user.coordinates}\")"
   ]
  }
 ],
 "metadata": {
  "kernelspec": {
   "display_name": "edgepy",
   "language": "python",
   "name": "python3"
  },
  "language_info": {
   "codemirror_mode": {
    "name": "ipython",
    "version": 3
   },
   "file_extension": ".py",
   "mimetype": "text/x-python",
   "name": "python",
   "nbconvert_exporter": "python",
   "pygments_lexer": "ipython3",
   "version": "3.11.5"
  }
 },
 "nbformat": 4,
 "nbformat_minor": 2
}
