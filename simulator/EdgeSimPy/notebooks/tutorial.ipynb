{
 "cells": [
  {
   "cell_type": "code",
   "execution_count": 1,
   "metadata": {},
   "outputs": [],
   "source": [
    "# Importing EdgeSimPy components\n",
    "from edge_sim_py import *\n",
    "\n",
    "# Importing Python libraries\n",
    "import os\n",
    "import random\n",
    "import msgpack\n",
    "import pandas as pd"
   ]
  },
  {
   "cell_type": "code",
   "execution_count": 2,
   "metadata": {},
   "outputs": [],
   "source": [
    "# Functions\n",
    "## my algorithm\n",
    "def my_algorithm(parameters):\n",
    "    # We can always call the 'all()' method to get a list with all created instances of a given class\n",
    "    for service in Service.all():\n",
    "        # We don't want to migrate services are are already being migrated\n",
    "        if service.server == None and not service.being_provisioned:\n",
    "\n",
    "            # Let's iterate over the list of edge servers to find a suitable host for our service\n",
    "            for edge_server in EdgeServer.all():\n",
    "\n",
    "                # We must check if the edge server has enough resources to host the service\n",
    "                if edge_server.has_capacity_to_host(service=service):\n",
    "\n",
    "                    # Start provisioning the service in the edge server\n",
    "                    service.provision(target_server=edge_server)\n",
    "\n",
    "                    # After start migrating the service we can move on to the next service\n",
    "                    break\n",
    "\n",
    "## stop criteria\n",
    "def stopping_criterion(model: object):\n",
    "    # Defining a variable that will help us to count the number of services successfully provisioned within the infrastructure\n",
    "    provisioned_services = 0\n",
    "    \n",
    "    # Iterating over the list of services to count the number of services provisioned within the infrastructure\n",
    "    for service in Service.all():\n",
    "\n",
    "        # Initially, services are not hosted by any server (i.e., their \"server\" attribute is None).\n",
    "        # Once that value changes, we know that it has been successfully provisioned inside an edge server.\n",
    "        if service.server != None:\n",
    "            provisioned_services += 1\n",
    "    \n",
    "    # As EdgeSimPy will halt the simulation whenever this function returns True, its output will be a boolean expression\n",
    "    # that checks if the number of provisioned services equals to the number of services spawned in our simulation\n",
    "    return provisioned_services == Service.count()\n",
    "\n",
    "# Monitoring Custom Metrics\n",
    "def custom_collect_method(self) -> dict:\n",
    "    temperature = random.randint(10, 50)  # Generating a random integer between 10 and 50 representing the switch's temperature\n",
    "    metrics = {\n",
    "        \"Instance ID\": self.id,\n",
    "        \"Power Consumption\": self.get_power_consumption(),\n",
    "        \"Temperature\": temperature,\n",
    "    }\n",
    "    return metrics\n",
    "\n",
    "# Overriding the NetworkSwitch's collect() method\n",
    "NetworkSwitch.collect = custom_collect_method"
   ]
  },
  {
   "cell_type": "code",
   "execution_count": 3,
   "metadata": {},
   "outputs": [],
   "source": [
    "# Creating a Simulator object\n",
    "simulator = Simulator(\n",
    "    dump_interval=5,\n",
    "    tick_duration=1,\n",
    "    tick_unit=\"seconds\",\n",
    "    stopping_criterion=stopping_criterion,\n",
    "    resource_management_algorithm=my_algorithm,\n",
    ")\n",
    "\n",
    "# Loading a sample dataset from GitHub\n",
    "simulator.initialize(input_file=\"https://raw.githubusercontent.com/EdgeSimPy/edgesimpy-tutorials/master/datasets/sample_dataset2.json\")\n",
    "\n",
    "# Executing the simulation\n",
    "simulator.run_model()"
   ]
  },
  {
   "cell_type": "code",
   "execution_count": 4,
   "metadata": {},
   "outputs": [
    {
     "name": "stdout",
     "output_type": "stream",
     "text": [
      "[{'Object': 'User_1', 'Time Step': 0, 'Instance ID': 1, 'Coordinates': [6, 0], 'Base Station': 'BaseStation_4 ([6, 0])', 'Delays': {'1': None}, 'Communication Paths': {}, 'Making Requests': {'1': {'1': True}}, 'Access History': {'1': [{'start': 1, 'end': inf, 'duration': inf, 'waiting_time': 0, 'access_time': 0, 'interval': 0, 'next_access': inf}]}}, {'Object': 'User_2', 'Time Step': 0, 'Instance ID': 2, 'Coordinates': [3, 1], 'Base Station': 'BaseStation_6 ([3, 1])', 'Delays': {'2': None}, 'Communication Paths': {}, 'Making Requests': {'2': {'1': True}}, 'Access History': {'2': [{'start': 1, 'end': inf, 'duration': inf, 'waiting_time': 0, 'access_time': 0, 'interval': 0, 'next_access': inf}]}}]\n"
     ]
    }
   ],
   "source": [
    "# Option 1 (Accessing Variables Directly)\n",
    "print(simulator.agent_metrics[\"User\"][0:2])"
   ]
  },
  {
   "cell_type": "code",
   "execution_count": 5,
   "metadata": {},
   "outputs": [
    {
     "name": "stdout",
     "output_type": "stream",
     "text": [
      "         Object  Time Step  Instance ID Coordinates  Available  CPU    RAM  \\\n",
      "0  EdgeServer_1          0            1      [0, 0]       True    8  16384   \n",
      "1  EdgeServer_2          0            2      [0, 2]       True    8  16384   \n",
      "2  EdgeServer_3          0            3      [6, 0]       True    8   8192   \n",
      "3  EdgeServer_4          0            4      [1, 3]       True    8   8192   \n",
      "4  EdgeServer_5          0            5      [7, 1]       True   12  16384   \n",
      "\n",
      "     Disk  CPU Demand  RAM Demand  Disk Demand  Ongoing Migrations Services  \\\n",
      "0  131072           0           0            0                   0       []   \n",
      "1  131072           0           0            0                   0       []   \n",
      "2  131072           0           0            0                   0       []   \n",
      "3  131072           0           0            0                   0       []   \n",
      "4  131072           1        1024         1017                   0       []   \n",
      "\n",
      "  Registries                                             Layers  \\\n",
      "0         []                                                 []   \n",
      "1         []                                                 []   \n",
      "2         []                                                 []   \n",
      "3         []                                                 []   \n",
      "4        [1]  [ADD file:5d673d25da3a14ce1f6cf, /bin/sh -c se...   \n",
      "\n",
      "                                              Images Download Queue  \\\n",
      "0                                                 []             []   \n",
      "1                                                 []             []   \n",
      "2                                                 []             []   \n",
      "3                                                 []             []   \n",
      "4  [registry, alpine, nginx, ubuntu, python, redi...             []   \n",
      "\n",
      "  Waiting Queue  Max. Concurrent Layer Downloads  Power Consumption  \n",
      "0            []                                3         165.996000  \n",
      "1            []                                3         165.996000  \n",
      "2            []                                3          66.991400  \n",
      "3            []                                3          66.991400  \n",
      "4            []                                3          74.508333  \n"
     ]
    }
   ],
   "source": [
    "# Option 2 (Accessing Log Files)\n",
    "\n",
    "# Gathering the list of msgpack files in the current directory\n",
    "logs_directory = f\"{os.getcwd()}/logs\"\n",
    "dataset_files = [file for file in os.listdir(logs_directory) if \".msgpack\" in file]\n",
    "\n",
    "# Reading msgpack files found\n",
    "datasets = {}\n",
    "for file in dataset_files:\n",
    "    with open(f\"logs/{file}\", \"rb\") as data_file:\n",
    "        datasets[file.replace(\".msgpack\", \"\")] = pd.DataFrame(msgpack.unpackb(data_file.read(), strict_map_key=False))\n",
    "\n",
    "# Let's access the edge server logs:\n",
    "print(datasets[\"EdgeServer\"].head())"
   ]
  },
  {
   "cell_type": "code",
   "execution_count": 6,
   "metadata": {},
   "outputs": [
    {
     "name": "stdout",
     "output_type": "stream",
     "text": [
      "   Time Step  Instance ID Coordinates  CPU Demand  RAM Demand  Disk Demand  \\\n",
      "0          0            1      [0, 0]           0           0            0   \n",
      "1          0            2      [0, 2]           0           0            0   \n",
      "2          0            3      [6, 0]           0           0            0   \n",
      "3          0            4      [1, 3]           0           0            0   \n",
      "4          0            5      [7, 1]           1        1024         1017   \n",
      "\n",
      "  Services  \n",
      "0       []  \n",
      "1       []  \n",
      "2       []  \n",
      "3       []  \n",
      "4       []  \n"
     ]
    }
   ],
   "source": [
    "# Defining the data frame columns that will be exhibited\n",
    "properties = ['Coordinates', 'CPU Demand', 'RAM Demand', 'Disk Demand', 'Services']\n",
    "columns = ['Time Step', 'Instance ID'] + properties\n",
    "\n",
    "dataframe = datasets[\"EdgeServer\"].filter(items=columns)\n",
    "print(dataframe.head())"
   ]
  },
  {
   "cell_type": "code",
   "execution_count": 7,
   "metadata": {},
   "outputs": [
    {
     "name": "stdout",
     "output_type": "stream",
     "text": [
      "            Object  Time Step  Instance ID  Power Consumption  Temperature\n",
      "0  NetworkSwitch_1          0            1               60.6           41\n",
      "1  NetworkSwitch_2          0            2               61.2           20\n",
      "2  NetworkSwitch_3          0            3               61.2           44\n",
      "3  NetworkSwitch_4          0            4               60.9           32\n",
      "4  NetworkSwitch_5          0            5               61.5           24\n"
     ]
    }
   ],
   "source": [
    "# Creating a Pandas data frame with the network switch logs\n",
    "logs = pd.DataFrame(simulator.agent_metrics[\"NetworkSwitch\"])\n",
    "print(logs.head())"
   ]
  }
 ],
 "metadata": {
  "kernelspec": {
   "display_name": "edgepy",
   "language": "python",
   "name": "python3"
  },
  "language_info": {
   "codemirror_mode": {
    "name": "ipython",
    "version": 3
   },
   "file_extension": ".py",
   "mimetype": "text/x-python",
   "name": "python",
   "nbconvert_exporter": "python",
   "pygments_lexer": "ipython3",
   "version": "3.11.5"
  }
 },
 "nbformat": 4,
 "nbformat_minor": 2
}
